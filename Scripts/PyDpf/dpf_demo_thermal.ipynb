{
 "cells": [
  {
   "attachments": {},
   "cell_type": "markdown",
   "metadata": {},
   "source": [
    "### Import Modules"
   ]
  },
  {
   "cell_type": "code",
   "execution_count": 23,
   "metadata": {},
   "outputs": [],
   "source": [
    "from ansys.dpf import core as dpf\n",
    "from ansys.dpf.core.plotter import DpfPlotter"
   ]
  },
  {
   "attachments": {},
   "cell_type": "markdown",
   "metadata": {},
   "source": [
    "### Load result file and create model database\n",
    "\n",
    "#####  - Define Datasource using result file\n",
    "#####  - Define Model using this datasource\n"
   ]
  },
  {
   "cell_type": "code",
   "execution_count": 24,
   "metadata": {},
   "outputs": [],
   "source": [
    "\n",
    "path = r\"inputs\\WS03-6_file.rth\"\n",
    "\n",
    "ds = dpf.DataSources(path)\n",
    "my_model = dpf.Model(ds)"
   ]
  },
  {
   "attachments": {},
   "cell_type": "markdown",
   "metadata": {},
   "source": [
    "### ist Contents of Model"
   ]
  },
  {
   "cell_type": "code",
   "execution_count": 25,
   "metadata": {},
   "outputs": [
    {
     "name": "stdout",
     "output_type": "stream",
     "text": [
      "DPF Model\n",
      "------------------------------\n",
      "Static analysis\n",
      "Unit system: MKS: m, kg, N, s, V, A, degC\n",
      "Physics Type: Thermal\n",
      "Available results:\n",
      "     -  temperature: Nodal Temperature\n",
      "     -  elemental_summable_miscellaneous_data: Elemental Elemental Summable Miscellaneous Data\n",
      "     -  element_nodal_forces: ElementalNodal Element nodal Forces\n",
      "     -  elemental_volume: Elemental Volume\n",
      "     -  stiffness_matrix_energy: Elemental Energy-stiffness matrix\n",
      "     -  artificial_hourglass_energy: Elemental Hourglass Energy\n",
      "     -  thermal_dissipation_energy: Elemental thermal dissipation energy\n",
      "     -  kinetic_energy: Elemental Kinetic Energy\n",
      "     -  co_energy: Elemental co-energy\n",
      "     -  incremental_energy: Elemental incremental energy\n",
      "     -  element_euler_angles: ElementalNodal Element Euler Angles\n",
      "     -  elemental_non_summable_miscellaneous_data: Elemental Elemental Non Summable Miscellaneous Data\n",
      "     -  structural_temperature: ElementalNodal Structural temperature\n",
      "     -  contact_status: ElementalNodal Contact Status\n",
      "     -  contact_penetration: ElementalNodal Contact Penetration\n",
      "     -  contact_pressure: ElementalNodal Contact Pressure\n",
      "     -  contact_friction_stress: ElementalNodal Contact Friction Stress\n",
      "     -  contact_total_stress: ElementalNodal Contact Total Stress\n",
      "     -  contact_sliding_distance: ElementalNodal Contact Sliding Distance\n",
      "     -  contact_gap_distance: ElementalNodal Contact Gap Distance\n",
      "     -  total_heat_flux_at_contact_surface: ElementalNodal Total heat flux at contact surface\n",
      "     -  contact_status_changes: ElementalNodal Contact status changes\n",
      "     -  fluid_penetration_pressure: ElementalNodal Fluid Penetration Pressure\n",
      "     -  heat_flux: ElementalNodal Heat flux\n",
      "     -  temperature_gradient: ElementalNodal Temperature Gradient\n",
      "------------------------------\n",
      "DPF  Meshed Region: \n",
      "  66510 nodes \n",
      "  23874 elements \n",
      "  Unit: m \n",
      "  With solid (3D) elements, shell (2D) elements, shell (3D) elements\n",
      "------------------------------\n",
      "DPF  Time/Freq Support: \n",
      "  Number of sets: 3 \n",
      "Cumulative     Time (s)       LoadStep       Substep         \n",
      "1              1.000000       1              1               \n",
      "2              2.000000       2              1               \n",
      "3              3.000000       3              1               \n",
      "\n"
     ]
    }
   ],
   "source": [
    "print(my_model)"
   ]
  },
  {
   "cell_type": "code",
   "execution_count": 26,
   "metadata": {},
   "outputs": [
    {
     "name": "stdout",
     "output_type": "stream",
     "text": [
      "DPF  Meshed Region: \n",
      "  66510 nodes \n",
      "  23874 elements \n",
      "  Unit: m \n",
      "  With solid (3D) elements, shell (2D) elements, shell (3D) elements\n"
     ]
    }
   ],
   "source": [
    "my_mesh = my_model.metadata.meshed_region\n",
    "\n",
    "print(my_mesh)"
   ]
  },
  {
   "attachments": {},
   "cell_type": "markdown",
   "metadata": {},
   "source": [
    "### Select preferable Named Selection\n",
    "##### -  Print all named selections"
   ]
  },
  {
   "cell_type": "code",
   "execution_count": 27,
   "metadata": {},
   "outputs": [
    {
     "name": "stdout",
     "output_type": "stream",
     "text": [
      "['CONVECTIONWITHPILOTNODE4', 'ELEMENTAL_PCB', 'NODAL_PCB', 'PCB', 'PCB_CONTACTS', 'PCB_CONTS_ELEM', 'PCB_CONTS_NODE', 'PCB_CONT_19', 'PCB_CONT_2', 'PCB_TARG_19', 'PCB_TARG_2', '_ALLCONTACTS']\n"
     ]
    }
   ],
   "source": [
    "\n",
    "get_NSs = my_model.metadata.available_named_selections\n",
    "print(get_NSs)"
   ]
  },
  {
   "attachments": {},
   "cell_type": "markdown",
   "metadata": {},
   "source": [
    "##### -  Choose a  named selection from the above list"
   ]
  },
  {
   "cell_type": "code",
   "execution_count": 28,
   "metadata": {},
   "outputs": [
    {
     "name": "stdout",
     "output_type": "stream",
     "text": [
      "DPF  Scoping: \n",
      "  with Nodal location and 20704 entities\n",
      "\n"
     ]
    }
   ],
   "source": [
    "my_mesh_scoping = my_model.metadata.named_selection(\"NODAL_PCB\")\n",
    "print(my_mesh_scoping)\n"
   ]
  },
  {
   "attachments": {},
   "cell_type": "markdown",
   "metadata": {},
   "source": [
    "### Scope Named Selection to corresponding Mesh\n",
    "\n",
    "##### 1. Define \"from scoping\" operator\n",
    "##### 2. Connect it to two inputs : MESHED REGION( al Nodes and Elements)  and SCOPING (with Nodal location and 20704 entities from Named Selection)\n",
    "##### 2. Get Output : A new MESHED REGION corresponding to named selection\n",
    "\n"
   ]
  },
  {
   "cell_type": "code",
   "execution_count": 29,
   "metadata": {},
   "outputs": [
    {
     "name": "stdout",
     "output_type": "stream",
     "text": [
      "DPF  Meshed Region: \n",
      "  20704 nodes \n",
      "  5544 elements \n",
      "  Unit: m \n",
      "  With solid (3D) elements, shell (2D) elements, shell (3D) elements\n"
     ]
    }
   ],
   "source": [
    "\n",
    "scoping_op = dpf.operators.mesh.from_scoping()\n",
    "scoping_op.inputs.scoping.connect(my_mesh_scoping)\n",
    "scoping_op.inputs.mesh.connect(my_mesh)\n",
    "\n",
    "my_mesh_ns = scoping_op.outputs.mesh()\n",
    "\n",
    "print(my_mesh_ns)"
   ]
  },
  {
   "attachments": {},
   "cell_type": "markdown",
   "metadata": {},
   "source": [
    "### Get Temperature results at last time step\n",
    "##### 1. Get temperatures at all timepoints(for entire model)\n",
    "##### 2. Filter results for  SCOPING(Meshed Region) we create above\n",
    "##### 3. Filter last time point data. You now have the FIELD\n"
   ]
  },
  {
   "cell_type": "code",
   "execution_count": 30,
   "metadata": {},
   "outputs": [
    {
     "name": "stdout",
     "output_type": "stream",
     "text": [
      "DPF temperature_3.s Field\n",
      "  Location: Nodal\n",
      "  Unit: degC\n",
      "  20704 entities \n",
      "  Data: 1 components and 20704 elementary data \n",
      "\n",
      "  IDs                   data(degC)\n",
      "  ------------          ----------\n",
      "  45805                 3.798804e+01   \n",
      "                        \n",
      "  45806                 3.797735e+01   \n",
      "                        \n",
      "  45807                 3.797568e+01   \n",
      "                        \n",
      "  ...\n",
      "\n",
      "\n"
     ]
    }
   ],
   "source": [
    "\n",
    "get_all_temps = my_model.results.temperature.on_all_time_freqs\n",
    "get_fieldContainers_temperature = get_all_temps(mesh_scoping=my_mesh_scoping).eval()\n",
    "\n",
    "get_field_temperature = get_fieldContainers_temperature[-1]\n",
    "\n",
    "print(get_field_temperature)"
   ]
  },
  {
   "attachments": {},
   "cell_type": "markdown",
   "metadata": {},
   "source": [
    "### Contour Plot: Temperature on PCB\n",
    "\n",
    "##### Create a DpfPlotter object (which is a PyVista based object).\n",
    "\n",
    "##### Pass on FIELD and SCOPING to it (to show as figure)"
   ]
  },
  {
   "cell_type": "code",
   "execution_count": 31,
   "metadata": {},
   "outputs": [
    {
     "data": {
      "application/vnd.jupyter.widget-view+json": {
       "model_id": "a6a69335386a4a03b3c3c59e17480f67",
       "version_major": 2,
       "version_minor": 0
      },
      "text/plain": [
       "Widget(value='<iframe src=\"http://localhost:53533/index.html?ui=P_0x1e46ed5c850_2&reconnect=auto\" class=\"pyvis…"
      ]
     },
     "metadata": {},
     "output_type": "display_data"
    }
   ],
   "source": [
    "\n",
    "my_plot = DpfPlotter()\n",
    "my_plot.add_field(get_field_temperature, my_mesh_ns)\n",
    "my_plot.show_figure(show_axes=True)"
   ]
  },
  {
   "attachments": {},
   "cell_type": "markdown",
   "metadata": {},
   "source": [
    "### Print Min & Max Temperature in the selected field"
   ]
  },
  {
   "cell_type": "code",
   "execution_count": 32,
   "metadata": {},
   "outputs": [
    {
     "name": "stdout",
     "output_type": "stream",
     "text": [
      "Minimum Temperature:  32.711  degC\n",
      "Maximum Temperature:  84.199  degC\n"
     ]
    }
   ],
   "source": [
    "\n",
    "print(\"Minimum Temperature: \", round(float(get_field_temperature.data.min()),3), \" degC\")\n",
    "print(\"Maximum Temperature: \", round(float(get_field_temperature.data.max()),3), \" degC\")\n"
   ]
  },
  {
   "attachments": {},
   "cell_type": "markdown",
   "metadata": {},
   "source": [
    "### Recap"
   ]
  },
  {
   "attachments": {
    "image.png": {
     "image/png": "[encoded data removed]"
    }
   },
   "cell_type": "markdown",
   "metadata": {},
   "source": [
    "![image.png](attachment:image.png)"
   ]
  }
 ],
 "metadata": {
  "kernelspec": {
   "display_name": ".venv",
   "language": "python",
   "name": "python3"
  },
  "language_info": {
   "codemirror_mode": {
    "name": "ipython",
    "version": 3
   },
   "file_extension": ".py",
   "mimetype": "text/x-python",
   "name": "python",
   "nbconvert_exporter": "python",
   "pygments_lexer": "ipython3",
   "version": "3.9.13"
  },
  "orig_nbformat": 4
 },
 "nbformat": 4,
 "nbformat_minor": 2
}
