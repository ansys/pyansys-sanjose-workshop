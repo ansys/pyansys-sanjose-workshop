{
 "cells": [
  {
   "cell_type": "code",
   "execution_count": 1,
   "metadata": {},
   "outputs": [],
   "source": [
    "import time\n",
    "import csv\n",
    "import os\n",
    "from ansys.mechanical.core import embedding as app\n",
    "from ansys.mechanical.core import global_variables"
   ]
  },
  {
   "cell_type": "code",
   "execution_count": 2,
   "metadata": {},
   "outputs": [],
   "source": [
    "# inputs_dir = r\"D:\\mech\\inputs\"\n",
    "# work_dir = r\"D:\\mech\\wdir\"\n",
    "\n",
    "inputs_dir = os.path.join(os.getcwd(),\"inputs\")\n",
    "outputs_dir = os.path.join(os.getcwd(),\"outputs\")\n",
    "work_dir = os.path.join(os.getcwd(),\"wdir\")"
   ]
  },
  {
   "cell_type": "code",
   "execution_count": 3,
   "metadata": {},
   "outputs": [],
   "source": [
    "ansys_version = 241\n",
    "\n",
    "# geometryfilewithpath = os.path.join(inputs_dir, \"Valve_Geometry.scdoc\")\n",
    "geometryfilewithpath = os.path.join(inputs_dir, \"Valve_Geometry_NS.scdoc\")\n",
    "matfilewithpath = os.path.join(inputs_dir, \"MatML2.xml\")\n",
    "mechdat_filepath = os.path.join(work_dir, \"embedded_106.mechdb\") # edit this filename"
   ]
  },
  {
   "cell_type": "code",
   "execution_count": 4,
   "metadata": {},
   "outputs": [
    {
     "name": "stdout",
     "output_type": "stream",
     "text": [
      "Ansys Mechanical [Ansys Mechanical Enterprise]\n",
      "Product Version:241\n",
      "Software build date: 11/27/2023 12:02:06\n",
      "\n"
     ]
    }
   ],
   "source": [
    "\n",
    "e_app = app.App(version=ansys_version)\n",
    "print(e_app)\n",
    "globals().update(global_variables(e_app, True))\n"
   ]
  },
  {
   "cell_type": "code",
   "execution_count": 5,
   "metadata": {},
   "outputs": [],
   "source": [
    "\n",
    "\"\"\"Import board geometry with specified settings\"\"\"\n",
    "geometry_import = Model.GeometryImportGroup.AddGeometryImport()\n",
    "geometry_import_format = (Ansys.Mechanical.DataModel.Enums.GeometryImportPreference.Format.Automatic)\n",
    "geometry_import_preferences = (Ansys.ACT.Mechanical.Utilities.GeometryImportPreferences())\n",
    "geometry_import_preferences.NamedSelectionKey = \"\"\n",
    "geometry_import_preferences.ProcessNamedSelections = True\n",
    "geometry_import.Import(geometryfilewithpath, geometry_import_format, geometry_import_preferences)\n",
    "\n",
    "\"\"\"Import Materials from xml file created from Engineering Data\"\"\"\n",
    "Model.Materials.Import(matfilewithpath)\n",
    "e_app.save(mechdat_filepath)\n"
   ]
  },
  {
   "cell_type": "code",
   "execution_count": 6,
   "metadata": {},
   "outputs": [
    {
     "name": "stdout",
     "output_type": "stream",
     "text": [
      "\n",
      "Total Number of Bodies :  3\n",
      "Materials available : \n",
      "Structural Steel\n",
      "Gray Cast Iron\n"
     ]
    }
   ],
   "source": [
    "\n",
    "allbodies=ExtAPI.DataModel.Project.Model.GetChildren( Ansys.Mechanical.DataModel.Enums.DataModelObjectCategory.Body,True)\n",
    "print(\"\\nTotal Number of Bodies : \", allbodies.Count)\n",
    "\n",
    "print(\"Materials available : \")\n",
    "for mat in Model.Materials.Children:\n",
    "    print(mat.Name)\n",
    "\n"
   ]
  },
  {
   "cell_type": "code",
   "execution_count": 7,
   "metadata": {},
   "outputs": [],
   "source": [
    "part =  ExtAPI.DataModel.GetObjectsByName(\"Connector\")[0]\n",
    "part.Material = \"Gray Cast Iron\"\n",
    "ExtAPI.DataModel.Tree.Refresh()\n",
    "\n",
    "e_app.save(mechdat_filepath)"
   ]
  },
  {
   "cell_type": "code",
   "execution_count": 8,
   "metadata": {},
   "outputs": [],
   "source": [
    "# Define mesh settings\n",
    "mesh = Model.Mesh\n",
    "mesh.ElementSize = Quantity('25 [mm]')\n",
    "mesh.GenerateMesh()\n",
    "\n"
   ]
  },
  {
   "cell_type": "code",
   "execution_count": 9,
   "metadata": {},
   "outputs": [],
   "source": [
    "\n",
    "# Define boundary conditions:\n",
    "analysis = Model.AddStaticStructuralAnalysis()\n",
    "\n",
    "fixedSupport = analysis.AddFixedSupport()\n",
    "fixedSupport.Location = ExtAPI.DataModel.GetObjectsByName(\"NSFixedSupportFaces\")[0]\n",
    "\n",
    "frictionlessSupport = analysis.AddFrictionlessSupport()\n",
    "frictionlessSupport.Location = ExtAPI.DataModel.GetObjectsByName(\"NSFrictionlessSupportFaces\")[0]\n",
    "\n",
    "pressure = analysis.AddPressure()\n",
    "pressure.Location = ExtAPI.DataModel.GetObjectsByName(\"NSInsideFaces\")[0]\n",
    "pressure.Magnitude.Inputs[0].DiscreteValues = [Quantity(\"0 [s]\"), Quantity(\"1 [s]\")]\n",
    "pressure.Magnitude.Output.DiscreteValues = [Quantity(\"0 [Pa]\"), Quantity(\"15 [MPa]\")]"
   ]
  },
  {
   "cell_type": "code",
   "execution_count": 10,
   "metadata": {},
   "outputs": [],
   "source": [
    "\n",
    "# Solve model\n",
    "analysis.Solve()\n",
    "\n",
    "e_app.save(mechdat_filepath)"
   ]
  },
  {
   "cell_type": "code",
   "execution_count": 11,
   "metadata": {},
   "outputs": [
    {
     "name": "stderr",
     "output_type": "stream",
     "text": [
      "C:\\Users\\rkokkili\\AppData\\Local\\Temp\\ipykernel_36104\\261484581.py:13: UserWarning: Obsolete: 'ExportToTextFile': Remove bIgnoreExcelPreference parameter\n",
      "  result.ExportToTextFile(True,path)\n"
     ]
    }
   ],
   "source": [
    "\n",
    "# Add results\n",
    "solution = analysis.Solution\n",
    "solution.AddTotalDeformation()\n",
    "solution.AddEquivalentStress()\n",
    "solution.EvaluateAllResults()\n",
    "e_app.save(mechdat_filepath)\n",
    "\n",
    "# Export result values to a text file\n",
    "results =  solution.GetChildren(DataModelObjectCategory.Result,True)\n",
    "for result in results:\n",
    "    fileName = str(result.Name)\n",
    "    path = os.path.join(outputs_dir,fileName+r\".txt\")\n",
    "    result.ExportToTextFile(True,path)\n"
   ]
  },
  {
   "cell_type": "code",
   "execution_count": 12,
   "metadata": {},
   "outputs": [],
   "source": [
    "e_app.close()"
   ]
  }
 ],
 "metadata": {
  "kernelspec": {
   "display_name": "Python 3",
   "language": "python",
   "name": "python3"
  },
  "language_info": {
   "codemirror_mode": {
    "name": "ipython",
    "version": 3
   },
   "file_extension": ".py",
   "mimetype": "text/x-python",
   "name": "python",
   "nbconvert_exporter": "python",
   "pygments_lexer": "ipython3",
   "version": "3.9.13"
  },
  "orig_nbformat": 4
 },
 "nbformat": 4,
 "nbformat_minor": 2
}
