{
 "cells": [
  {
   "cell_type": "code",
   "execution_count": 6,
   "metadata": {},
   "outputs": [],
   "source": [
    "import time\n",
    "import csv\n",
    "import os\n",
    "from ansys.mechanical.core import embedding as app\n",
    "from ansys.mechanical.core import global_variables"
   ]
  },
  {
   "cell_type": "code",
   "execution_count": 7,
   "metadata": {},
   "outputs": [],
   "source": [
    "# inputs_dir = r\"D:\\mech\\inputs\"\n",
    "# work_dir = r\"D:\\mech\\wdir\"\n",
    "\n",
    "inputs_dir = os.path.join(os.getcwd(),\"inputs\")\n",
    "work_dir = os.path.join(os.getcwd(),\"wdir\")"
   ]
  },
  {
   "cell_type": "code",
   "execution_count": 8,
   "metadata": {},
   "outputs": [],
   "source": [
    "ansys_version = 241\n",
    "num_cores = 8\n",
    "\n",
    "geometryfilewithpath = os.path.join(inputs_dir, \"Valve_Geometry.scdoc\")\n",
    "matfilewithpath = os.path.join(inputs_dir, \"MatML.xml\")\n",
    "mechdat_filepath = os.path.join(work_dir, \"embedded_101.mechdb\") # edit this filename"
   ]
  },
  {
   "cell_type": "code",
   "execution_count": 9,
   "metadata": {},
   "outputs": [],
   "source": [
    "\n",
    "def import_geometry(geom_file):\n",
    "    \"\"\"Import board geometry with specified settings\"\"\"\n",
    "    geometry_import = Model.GeometryImportGroup.AddGeometryImport()\n",
    "    geometry_import_format = (Ansys.Mechanical.DataModel.Enums.GeometryImportPreference.Format.Automatic)\n",
    "    geometry_import_preferences = (Ansys.ACT.Mechanical.Utilities.GeometryImportPreferences())\n",
    "    geometry_import_preferences.NamedSelectionKey = \"\"\n",
    "    geometry_import_preferences.ProcessNamedSelections = True\n",
    "    geometry_import.Import(geom_file, geometry_import_format, geometry_import_preferences)\n"
   ]
  },
  {
   "cell_type": "code",
   "execution_count": 10,
   "metadata": {},
   "outputs": [
    {
     "ename": "ModuleNotFoundError",
     "evalue": "No module named 'clr'",
     "output_type": "error",
     "traceback": [
      "\u001b[1;31m---------------------------------------------------------------------------\u001b[0m",
      "\u001b[1;31mModuleNotFoundError\u001b[0m                       Traceback (most recent call last)",
      "Cell \u001b[1;32mIn[10], line 1\u001b[0m\n\u001b[1;32m----> 1\u001b[0m e_app \u001b[39m=\u001b[39m app\u001b[39m.\u001b[39;49mApp(version\u001b[39m=\u001b[39;49mansys_version)\n\u001b[0;32m      2\u001b[0m \u001b[39mprint\u001b[39m(e_app)\n\u001b[0;32m      3\u001b[0m \u001b[39mglobals\u001b[39m()\u001b[39m.\u001b[39mupdate(global_variables(e_app, \u001b[39mTrue\u001b[39;00m))\n",
      "File \u001b[1;32mc:\\Python310\\lib\\site-packages\\ansys\\mechanical\\core\\embedding\\app.py:128\u001b[0m, in \u001b[0;36mApp.__init__\u001b[1;34m(self, db_file, private_appdata, **kwargs)\u001b[0m\n\u001b[0;32m    125\u001b[0m     profile\u001b[39m.\u001b[39mupdate_environment(os\u001b[39m.\u001b[39menviron)\n\u001b[0;32m    126\u001b[0m     atexit\u001b[39m.\u001b[39mregister(_cleanup_private_appdata, profile)\n\u001b[1;32m--> 128\u001b[0m \u001b[39mself\u001b[39m\u001b[39m.\u001b[39m_app \u001b[39m=\u001b[39m _start_application(configuration, \u001b[39mself\u001b[39;49m\u001b[39m.\u001b[39;49m_version, db_file)\n\u001b[0;32m    129\u001b[0m runtime\u001b[39m.\u001b[39minitialize(\u001b[39mself\u001b[39m\u001b[39m.\u001b[39m_version)\n\u001b[0;32m    130\u001b[0m connect_warnings(\u001b[39mself\u001b[39m)\n",
      "File \u001b[1;32mc:\\Python310\\lib\\site-packages\\ansys\\mechanical\\core\\embedding\\app.py:53\u001b[0m, in \u001b[0;36m_start_application\u001b[1;34m(configuration, version, db_file)\u001b[0m\n\u001b[0;32m     52\u001b[0m \u001b[39mdef\u001b[39;00m \u001b[39m_start_application\u001b[39m(configuration: AddinConfiguration, version, db_file) \u001b[39m-\u001b[39m\u001b[39m>\u001b[39m \u001b[39m\"\u001b[39m\u001b[39mApp\u001b[39m\u001b[39m\"\u001b[39m:\n\u001b[1;32m---> 53\u001b[0m     \u001b[39mimport\u001b[39;00m \u001b[39mclr\u001b[39;00m\n\u001b[0;32m     55\u001b[0m     clr\u001b[39m.\u001b[39mAddReference(\u001b[39m\"\u001b[39m\u001b[39mAnsys.Mechanical.Embedding\u001b[39m\u001b[39m\"\u001b[39m)\n\u001b[0;32m     56\u001b[0m     \u001b[39mimport\u001b[39;00m \u001b[39mAnsys\u001b[39;00m\n",
      "\u001b[1;31mModuleNotFoundError\u001b[0m: No module named 'clr'"
     ]
    }
   ],
   "source": [
    "\n",
    "e_app = app.App(version=ansys_version)\n",
    "print(e_app)\n",
    "globals().update(global_variables(e_app, True))\n"
   ]
  },
  {
   "cell_type": "code",
   "execution_count": 11,
   "metadata": {},
   "outputs": [
    {
     "ename": "NameError",
     "evalue": "name 'Model' is not defined",
     "output_type": "error",
     "traceback": [
      "\u001b[1;31m---------------------------------------------------------------------------\u001b[0m",
      "\u001b[1;31mNameError\u001b[0m                                 Traceback (most recent call last)",
      "Cell \u001b[1;32mIn[11], line 1\u001b[0m\n\u001b[1;32m----> 1\u001b[0m import_geometry(geometryfilewithpath)\n\u001b[0;32m      2\u001b[0m Model\u001b[39m.\u001b[39mMaterials\u001b[39m.\u001b[39mImport(matfilewithpath)\n\u001b[0;32m      4\u001b[0m e_app\u001b[39m.\u001b[39msave(mechdat_filepath)\n",
      "Cell \u001b[1;32mIn[9], line 3\u001b[0m, in \u001b[0;36mimport_geometry\u001b[1;34m(geom_file)\u001b[0m\n\u001b[0;32m      1\u001b[0m \u001b[39mdef\u001b[39;00m \u001b[39mimport_geometry\u001b[39m(geom_file):\n\u001b[0;32m      2\u001b[0m \u001b[39m    \u001b[39m\u001b[39m\"\"\"Import board geometry with specified settings\"\"\"\u001b[39;00m\n\u001b[1;32m----> 3\u001b[0m     geometry_import \u001b[39m=\u001b[39m Model\u001b[39m.\u001b[39mGeometryImportGroup\u001b[39m.\u001b[39mAddGeometryImport()\n\u001b[0;32m      4\u001b[0m     geometry_import_format \u001b[39m=\u001b[39m (Ansys\u001b[39m.\u001b[39mMechanical\u001b[39m.\u001b[39mDataModel\u001b[39m.\u001b[39mEnums\u001b[39m.\u001b[39mGeometryImportPreference\u001b[39m.\u001b[39mFormat\u001b[39m.\u001b[39mAutomatic)\n\u001b[0;32m      5\u001b[0m     geometry_import_preferences \u001b[39m=\u001b[39m (Ansys\u001b[39m.\u001b[39mACT\u001b[39m.\u001b[39mMechanical\u001b[39m.\u001b[39mUtilities\u001b[39m.\u001b[39mGeometryImportPreferences())\n",
      "\u001b[1;31mNameError\u001b[0m: name 'Model' is not defined"
     ]
    }
   ],
   "source": [
    "import_geometry(geometryfilewithpath)\n",
    "Model.Materials.Import(matfilewithpath)\n",
    "\n",
    "e_app.save(mechdat_filepath)"
   ]
  },
  {
   "cell_type": "code",
   "execution_count": null,
   "metadata": {},
   "outputs": [],
   "source": [
    "Model.Materials.Import(matfilewithpath)"
   ]
  },
  {
   "cell_type": "code",
   "execution_count": null,
   "metadata": {},
   "outputs": [],
   "source": []
  }
 ],
 "metadata": {
  "kernelspec": {
   "display_name": "Python 3",
   "language": "python",
   "name": "python3"
  },
  "language_info": {
   "codemirror_mode": {
    "name": "ipython",
    "version": 3
   },
   "file_extension": ".py",
   "mimetype": "text/x-python",
   "name": "python",
   "nbconvert_exporter": "python",
   "pygments_lexer": "ipython3",
   "version": "3.10.11"
  },
  "orig_nbformat": 4
 },
 "nbformat": 4,
 "nbformat_minor": 2
}
